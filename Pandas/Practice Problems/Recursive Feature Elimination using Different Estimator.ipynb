{
 "cells": [
  {
   "cell_type": "markdown",
   "metadata": {},
   "source": [
    "### Recursive Feature Elimination using Different Estimator"
   ]
  },
  {
   "cell_type": "code",
   "execution_count": 18,
   "metadata": {},
   "outputs": [],
   "source": [
    "import pandas as pd \n",
    "import numpy as np\n",
    "from sklearn.ensemble import RandomForestRegressor\n",
    "from sklearn.feature_selection import RFE\n",
    "from sklearn.model_selection import train_test_split\n",
    "from sklearn.metrics import  mean_squared_error, mean_absolute_error, r2_score\n",
    "from sklearn.linear_model import LinearRegression\n",
    "from sklearn.svm import SVR"
   ]
  },
  {
   "cell_type": "code",
   "execution_count": 19,
   "metadata": {},
   "outputs": [],
   "source": [
    "House = pd.read_csv('D:\\Data for Preprocessing\\Housing.csv')"
   ]
  },
  {
   "cell_type": "code",
   "execution_count": 20,
   "metadata": {},
   "outputs": [],
   "source": [
    "home_desc = House.select_dtypes(include=['int64', 'float64'])"
   ]
  },
  {
   "cell_type": "code",
   "execution_count": 21,
   "metadata": {},
   "outputs": [],
   "source": [
    "home_desc.dropna(axis=0, inplace=True)"
   ]
  },
  {
   "cell_type": "code",
   "execution_count": 22,
   "metadata": {},
   "outputs": [],
   "source": [
    "X = home_desc.iloc[:,:-1]"
   ]
  },
  {
   "cell_type": "code",
   "execution_count": 23,
   "metadata": {},
   "outputs": [],
   "source": [
    "y = home_desc['price']"
   ]
  },
  {
   "cell_type": "code",
   "execution_count": 24,
   "metadata": {},
   "outputs": [],
   "source": [
    "# Define estimator\n",
    "linear_reg = LinearRegression()\n",
    "rf_regressor = RandomForestRegressor(random_state=42)\n",
    "svm_reg = SVR(kernel='linear')"
   ]
  },
  {
   "cell_type": "code",
   "execution_count": 25,
   "metadata": {},
   "outputs": [],
   "source": [
    "# List of estimator\n",
    "estimators = [linear_reg, rf_regressor, svm_reg]"
   ]
  },
  {
   "cell_type": "code",
   "execution_count": 26,
   "metadata": {},
   "outputs": [],
   "source": [
    "# Split the data into training and testing sets\n",
    "X_train, X_test, y_train, y_test = train_test_split(X, y, test_size=0.2, random_state=42)"
   ]
  },
  {
   "cell_type": "code",
   "execution_count": 28,
   "metadata": {},
   "outputs": [
    {
     "name": "stdout",
     "output_type": "stream",
     "text": [
      "\n",
      "Estimator: LinearRegression\n",
      "Selected Features: [2 3 4]\n",
      "RMSE: 170958.04000110764\n",
      "MAE: 128100.66053594263\n",
      "R^2: 0.4217777176591987\n",
      "\n",
      "Estimator: RandomForestRegressor\n",
      "Selected Features: [0 2 4]\n",
      "RMSE: 167289.49004654578\n",
      "MAE: 123324.7771794515\n",
      "R^2: 0.44632734107932337\n",
      "\n",
      "Estimator: SVR\n",
      "Selected Features: [1 2 3]\n",
      "RMSE: 235842.9358151339\n",
      "MAE: 176295.92201834862\n",
      "R^2: -0.10042768549828485\n"
     ]
    }
   ],
   "source": [
    "# Iterate over estimators \n",
    "for estimator in estimators:\n",
    "    # Create the RFE model\n",
    "    rfe_model = RFE(estimator=estimator, n_features_to_select=3)\n",
    "\n",
    "    # Fit the RFE Model to the the Training data\n",
    "    rfe_model.fit(X_train, y_train)\n",
    "\n",
    "    # Get the selected features\n",
    "    selected_features = np.arange(len(rfe_model.support_))[rfe_model.support_]\n",
    "\n",
    "    # Train the model on the selected features\n",
    "    estimator.fit(X_train.iloc[:, selected_features], y_train)\n",
    "\n",
    "    # Make Prediction on the test set\n",
    "    y_pred = estimator.predict(X_test.iloc[:, selected_features])\n",
    "\n",
    "    # Evaluate the model performance\n",
    "    rmse = np.sqrt(mean_squared_error(y_test, y_pred))\n",
    "    mae = mean_absolute_error(y_test, y_pred)\n",
    "    r2 = r2_score(y_test, y_pred)\n",
    "\n",
    "    # Print the results\n",
    "    print(f\"\\nEstimator: {estimator.__class__.__name__}\")\n",
    "    print(\"Selected Features:\", selected_features)\n",
    "    print(\"RMSE:\", rmse)\n",
    "    print(\"MAE:\", mae)\n",
    "    print(\"R^2:\", r2)\n",
    "\n"
   ]
  },
  {
   "cell_type": "code",
   "execution_count": null,
   "metadata": {},
   "outputs": [],
   "source": []
  }
 ],
 "metadata": {
  "kernelspec": {
   "display_name": "base",
   "language": "python",
   "name": "python3"
  },
  "language_info": {
   "codemirror_mode": {
    "name": "ipython",
    "version": 3
   },
   "file_extension": ".py",
   "mimetype": "text/x-python",
   "name": "python",
   "nbconvert_exporter": "python",
   "pygments_lexer": "ipython3",
   "version": "3.9.7"
  }
 },
 "nbformat": 4,
 "nbformat_minor": 2
}
