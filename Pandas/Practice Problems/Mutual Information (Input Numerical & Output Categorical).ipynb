{
 "cells": [
  {
   "cell_type": "code",
   "execution_count": 13,
   "metadata": {},
   "outputs": [
    {
     "name": "stdout",
     "output_type": "stream",
     "text": [
      "H(y): 1.0\n",
      "H(X): 1.7293913396509493\n",
      "H(X, y): 4.243856188476299\n",
      "I(X; y): -1.5144648488253494\n",
      "MI(X, y): -1.151628907593478\n"
     ]
    }
   ],
   "source": [
    "import numpy as np\n",
    "from scipy.stats import entropy\n",
    "\n",
    "# Given data\n",
    "X = np.array([1.2, 2.0, 3.5, 4.8, 5.1, 6.2, 7.5, 8.0, 9.3, 10.1])\n",
    "y = np.array([0, 1, 0, 1, 1, 0, 1, 0, 1, 0])\n",
    "\n",
    "# Step 1: Calculate H(y)\n",
    "p_0 = np.sum(y == 0) / len(y)\n",
    "p_1 = np.sum(y == 1) / len(y)\n",
    "H_y = entropy([p_0, p_1], base=2)\n",
    "\n",
    "# Step 2: Calculate H(X)\n",
    "hist, bin_edges = np.histogram(X, bins='auto', density=True)\n",
    "bin_centers = 0.5 * (bin_edges[:-1] + bin_edges[1:])\n",
    "H_X = -np.sum(hist * np.log2(hist + 1e-10))  # Adding a small constant to avoid log(0)\n",
    "\n",
    "# Step 3: Calculate H(X, y) using a 2D histogram\n",
    "H_XY = 0\n",
    "for label in [0, 1]:\n",
    "    indices = (y == label)\n",
    "    hist_xy, _, _ = np.histogram2d(X[indices], y[indices], bins=[bin_edges, [0, 1]], density=True)\n",
    "    hist_xy_normalized = hist_xy / np.sum(hist_xy)\n",
    "    H_XY -= np.sum(hist_xy_normalized * np.log2(hist_xy_normalized + 1e-10))\n",
    "\n",
    "# Step 4: Calculate I(X; y)\n",
    "I_XY = H_X + H_y - H_XY\n",
    "\n",
    "# Step 5: Calculate MI(X, y)\n",
    "MI_XY = I_XY / np.sqrt(H_X * H_y)\n",
    "\n",
    "# Display the results\n",
    "print(f\"H(y): {H_y}\")\n",
    "print(f\"H(X): {H_X}\")\n",
    "print(f\"H(X, y): {H_XY}\")\n",
    "print(f\"I(X; y): {I_XY}\")\n",
    "print(f\"MI(X, y): {MI_XY}\")\n"
   ]
  },
  {
   "cell_type": "code",
   "execution_count": 12,
   "metadata": {},
   "outputs": [
    {
     "name": "stdout",
     "output_type": "stream",
     "text": [
      "H(y): 1.0\n",
      "H(X): 1.7293913396509493\n",
      "H(X, y) using k-nearest neighbors: 14.342238661523512\n",
      "I(X; y) using k-nearest neighbors: -11.612847321872563\n",
      "MI(X, y) using k-nearest neighbors: -8.830637888829747\n"
     ]
    }
   ],
   "source": [
    "import numpy as np\n",
    "from sklearn.neighbors import NearestNeighbors\n",
    "from scipy.stats import entropy\n",
    "\n",
    "# Given data\n",
    "X = np.array([1.2, 2.0, 3.5, 4.8, 5.1, 6.2, 7.5, 8.0, 9.3, 10.1])\n",
    "y = np.array([0, 1, 0, 1, 1, 0, 1, 0, 1, 0])\n",
    "\n",
    "# Convert X to a 2D array for compatibility with NearestNeighbors\n",
    "X_2D = X.reshape(-1, 1)\n",
    "\n",
    "# Step 3: Calculate H(X, y) using k-nearest neighbors\n",
    "n_neighbors = 3\n",
    "nn = NearestNeighbors(n_neighbors=n_neighbors)\n",
    "nn.fit(X_2D)\n",
    "\n",
    "distances, indices = nn.kneighbors(X_2D)\n",
    "\n",
    "# Estimate joint probabilities using distances (inverse distance weighting)\n",
    "joint_probs = np.exp(-distances**2 / 2)\n",
    "joint_probs /= np.sum(joint_probs, axis=1, keepdims=True)\n",
    "\n",
    "# Calculate H(X, y) using KNN\n",
    "H_XY_knn = -np.sum(joint_probs * np.log2(joint_probs + 1e-10))\n",
    "\n",
    "# Step 1: Calculate H(y)\n",
    "p_0 = np.sum(y == 0) / len(y)\n",
    "p_1 = np.sum(y == 1) / len(y)\n",
    "H_y = entropy([p_0, p_1], base=2)\n",
    "\n",
    "# Step 2: Calculate H(X)\n",
    "hist, bin_edges = np.histogram(X, bins='auto', density=True)\n",
    "bin_centers = 0.5 * (bin_edges[:-1] + bin_edges[1:])\n",
    "H_X = -np.sum(hist * np.log2(hist + 1e-10))  # Adding a small constant to avoid log(0)\n",
    "\n",
    "# Step 4: Calculate I(X; y)\n",
    "I_XY = H_X + H_y - H_XY_knn  # Use H_XY_knn instead of H_XY\n",
    "\n",
    "# Step 5: Calculate MI(X, y)\n",
    "MI_XY = I_XY / np.sqrt(H_X * H_y)\n",
    "\n",
    "# Display the results\n",
    "print(f\"H(y): {H_y}\")\n",
    "print(f\"H(X): {H_X}\")\n",
    "print(f\"H(X, y) using k-nearest neighbors: {H_XY_knn}\")\n",
    "print(f\"I(X; y) using k-nearest neighbors: {I_XY}\")\n",
    "print(f\"MI(X, y) using k-nearest neighbors: {MI_XY}\")\n"
   ]
  },
  {
   "cell_type": "code",
   "execution_count": null,
   "metadata": {},
   "outputs": [],
   "source": []
  }
 ],
 "metadata": {
  "kernelspec": {
   "display_name": "base",
   "language": "python",
   "name": "python3"
  },
  "language_info": {
   "codemirror_mode": {
    "name": "ipython",
    "version": 3
   },
   "file_extension": ".py",
   "mimetype": "text/x-python",
   "name": "python",
   "nbconvert_exporter": "python",
   "pygments_lexer": "ipython3",
   "version": "3.9.7"
  }
 },
 "nbformat": 4,
 "nbformat_minor": 2
}
