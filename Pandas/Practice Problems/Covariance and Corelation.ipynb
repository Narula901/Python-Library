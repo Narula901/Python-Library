{
 "cells": [
  {
   "cell_type": "code",
   "execution_count": 1,
   "metadata": {},
   "outputs": [
    {
     "name": "stdout",
     "output_type": "stream",
     "text": [
      "Correlation Coefficient (r): -0.9103693792631485\n"
     ]
    }
   ],
   "source": [
    "import numpy as np\n",
    "\n",
    "# Define the data\n",
    "driving_speed = np.array([30, 50, 40, 55, 30, 25, 60, 25, 50, 55])\n",
    "mileage = np.array([28, 25, 25, 23, 30, 32, 21, 35, 26, 25])\n",
    "\n",
    "# Calculate the correlation coefficient\n",
    "correlation_coefficient = np.corrcoef(driving_speed, mileage)[0, 1]\n",
    "\n",
    "print(\"Correlation Coefficient (r):\", correlation_coefficient)\n",
    "\n",
    "\n"
   ]
  },
  {
   "cell_type": "code",
   "execution_count": 3,
   "metadata": {},
   "outputs": [
    {
     "name": "stdout",
     "output_type": "stream",
     "text": [
      "Covariance: 10.0\n",
      "Correlation Coefficient: 0.9901475429766744\n"
     ]
    }
   ],
   "source": [
    "import numpy as np\n",
    "\n",
    "# Define the dataset\n",
    "driving_speed = np.array([ 19, 17, 17, 14, 16, 12, 15, 12, 13])\n",
    "mileage = np.array([32, 28, 29, 24, 26, 20, 24, 20, 22])\n",
    "\n",
    "# Calculate the covariance matrix\n",
    "cov_matrix = np.cov(driving_speed, mileage)\n",
    "\n",
    "# The covariance between driving speed and mileage is in the (0, 1) position of the covariance matrix\n",
    "covariance = cov_matrix[0, 1]\n",
    "\n",
    "# Calculate the correlation coefficient\n",
    "correlation_coefficient = np.corrcoef(driving_speed, mileage)[0, 1]\n",
    "\n",
    "print(f\"Covariance: {covariance}\")\n",
    "print(f\"Correlation Coefficient: {correlation_coefficient}\")\n"
   ]
  },
  {
   "cell_type": "code",
   "execution_count": null,
   "metadata": {},
   "outputs": [],
   "source": [
    " # 19, 17, 17, 14, 16, 12, 15, 12, 13\n",
    "# 32, 28, 29, 24, 26, 20, 24, 20, 22"
   ]
  },
  {
   "cell_type": "code",
   "execution_count": null,
   "metadata": {},
   "outputs": [],
   "source": []
  },
  {
   "cell_type": "code",
   "execution_count": 1,
   "metadata": {},
   "outputs": [
    {
     "name": "stdout",
     "output_type": "stream",
     "text": [
      "Expected Value (Mean): 1.7579528770188073\n",
      "Variance: 0.6296604111192834\n"
     ]
    }
   ],
   "source": [
    "# Given data\n",
    "num_bedrooms = [0, 1, 2, 3]\n",
    "renter_occupied = [547, 5012, 6100, 2644]\n",
    "\n",
    "# Calculate the total number of renter-occupied houses\n",
    "total_renter_occupied = sum(renter_occupied)\n",
    "\n",
    "# Calculate the probability of each number of bedrooms\n",
    "probabilities = [count / total_renter_occupied for count in renter_occupied]\n",
    "\n",
    "# Calculate the expected value (mean)\n",
    "expected_value = sum([num_bedrooms[i] * probabilities[i] for i in range(len(num_bedrooms))])\n",
    "\n",
    "# Calculate the variance\n",
    "variance = sum([(num_bedrooms[i] - expected_value) ** 2 * probabilities[i] for i in range(len(num_bedrooms))])\n",
    "\n",
    "print(f\"Expected Value (Mean): {expected_value}\")\n",
    "print(f\"Variance: {variance}\")\n",
    "\n"
   ]
  },
  {
   "cell_type": "code",
   "execution_count": 2,
   "metadata": {},
   "outputs": [
    {
     "data": {
      "text/plain": [
       "14303"
      ]
     },
     "execution_count": 2,
     "metadata": {},
     "output_type": "execute_result"
    }
   ],
   "source": [
    "total_renter_occupied\n"
   ]
  },
  {
   "cell_type": "code",
   "execution_count": 3,
   "metadata": {},
   "outputs": [
    {
     "data": {
      "text/plain": [
       "[0.03824372509263791,\n",
       " 0.3504159966440607,\n",
       " 0.4264839544151577,\n",
       " 0.18485632384814374]"
      ]
     },
     "execution_count": 3,
     "metadata": {},
     "output_type": "execute_result"
    }
   ],
   "source": [
    "probabilities"
   ]
  },
  {
   "cell_type": "code",
   "execution_count": 4,
   "metadata": {},
   "outputs": [
    {
     "name": "stdout",
     "output_type": "stream",
     "text": [
      "Expected Value (Mean): 2.619211370930766\n",
      "Variance: 0.32901805451230365\n"
     ]
    }
   ],
   "source": [
    "# Given data\n",
    "num_bedrooms = [0, 1, 2, 3]\n",
    "renter_occupied = [23, 541, 3832, 8690]\n",
    "\n",
    "# Calculate the total number of renter-occupied houses\n",
    "total_renter_occupied = sum(renter_occupied)\n",
    "\n",
    "# Calculate the probability of each number of bedrooms\n",
    "probabilities = [count / total_renter_occupied for count in renter_occupied]\n",
    "\n",
    "# Calculate the expected value (mean)\n",
    "expected_value = sum([num_bedrooms[i] * probabilities[i] for i in range(len(num_bedrooms))])\n",
    "\n",
    "# Calculate the variance\n",
    "variance = sum([(num_bedrooms[i] - expected_value) ** 2 * probabilities[i] for i in range(len(num_bedrooms))])\n",
    "\n",
    "print(f\"Expected Value (Mean): {expected_value}\")\n",
    "print(f\"Variance: {variance}\")\n",
    "\n"
   ]
  },
  {
   "cell_type": "code",
   "execution_count": null,
   "metadata": {},
   "outputs": [],
   "source": []
  }
 ],
 "metadata": {
  "kernelspec": {
   "display_name": "base",
   "language": "python",
   "name": "python3"
  },
  "language_info": {
   "codemirror_mode": {
    "name": "ipython",
    "version": 3
   },
   "file_extension": ".py",
   "mimetype": "text/x-python",
   "name": "python",
   "nbconvert_exporter": "python",
   "pygments_lexer": "ipython3",
   "version": "3.9.7"
  },
  "orig_nbformat": 4
 },
 "nbformat": 4,
 "nbformat_minor": 2
}
