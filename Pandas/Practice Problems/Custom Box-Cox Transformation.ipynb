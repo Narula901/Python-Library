{
 "cells": [
  {
   "cell_type": "markdown",
   "metadata": {},
   "source": [
    "### Box-Cox Custom Implementation"
   ]
  },
  {
   "cell_type": "code",
   "execution_count": 16,
   "metadata": {},
   "outputs": [
    {
     "name": "stdout",
     "output_type": "stream",
     "text": [
      "Lambda: -5, Log-Likelihood: -23451.638674802245\n",
      "Lambda: -4, Log-Likelihood: -18355.370231047993\n",
      "Lambda: -3, Log-Likelihood: -13343.38428081157\n",
      "Lambda: -2, Log-Likelihood: -8501.383730547284\n",
      "Lambda: -1, Log-Likelihood: -4167.738799399524\n",
      "Lambda: 0, Log-Likelihood: -549.2350996899013\n",
      "Lambda: 1, Log-Likelihood: -1390.5632452147552\n",
      "Lambda: 2, Log-Likelihood: -2132.918397443552\n",
      "Lambda: 3, Log-Likelihood: -3440.432643524827\n",
      "Lambda: 4, Log-Likelihood: -5087.411338218459\n",
      "Lambda: 5, Log-Likelihood: -6901.6385209558175\n",
      "\n",
      "Custom Box-Cox Transformation:\n",
      "Optimal Lambda: 0\n",
      "Transformed Data (Sample): [0.38476438 1.38882152 0.84016348 0.64864266 0.15668307]\n",
      "\n",
      "Scipy Box-Cox Transformation:\n",
      "Optimal Lambda: 0.24618452757119594\n",
      "Transformed Data (Sample): [-0.69029945  1.26594507  0.28469728 -0.09006874 -1.43746402]\n"
     ]
    }
   ],
   "source": [
    "import numpy as np\n",
    "from scipy.stats import boxcox\n",
    "from scipy.special import log1p\n",
    "from scipy.stats import norm\n",
    "\n",
    "def compute_log_likelihood(data):\n",
    "    # Assuming a normal distribution for illustration purposes\n",
    "    mu = np.mean(data)\n",
    "    sigma = np.std(data)\n",
    "    log_likelihood = np.sum(norm.logpdf(data, loc=mu, scale=sigma))\n",
    "    return log_likelihood\n",
    "\n",
    "def boxcox_transform(data):\n",
    "    lambdas = range(-5, 6)  # Range of lambda values to consider\n",
    "    log_likelihoods = []\n",
    "\n",
    "    # Step 2: Calculate Transformed Data for Each lambda\n",
    "    for lambda_value in lambdas:\n",
    "        if lambda_value == 0:\n",
    "            transformed_data = log1p(data)\n",
    "        else:\n",
    "            transformed_data = (data**lambda_value - 1) / lambda_value\n",
    "\n",
    "        # Step 3: Evaluate Log-Likelihood\n",
    "        log_likelihood = compute_log_likelihood(transformed_data)\n",
    "\n",
    "        log_likelihoods.append(log_likelihood)\n",
    "\n",
    "        print(f\"Lambda: {lambda_value}, Log-Likelihood: {log_likelihood}\")\n",
    "\n",
    "    # Step 4: Identify Optimal lambda\n",
    "    optimal_lambda = list(lambdas)[np.argmax(log_likelihoods)]\n",
    "\n",
    "    # Step 5: Apply Box-Cox Transformation\n",
    "    if optimal_lambda == 0:\n",
    "        transformed_data = log1p(data)\n",
    "    else:\n",
    "        transformed_data = (data**optimal_lambda - 1) / optimal_lambda\n",
    "\n",
    "    return transformed_data, optimal_lambda\n",
    "\n",
    "# Generate a sample dataset\n",
    "np.random.seed(42)\n",
    "data = np.random.exponential(size=1000)\n",
    "\n",
    "# Apply Box-Cox Transformation using the provided function\n",
    "transformed_data, optimal_lambda = boxcox_transform(data)\n",
    "\n",
    "# Alternatively, you can use the built-in scipy function for Box-Cox transformation\n",
    "scipy_transformed_data, scipy_optimal_lambda = boxcox(data)\n",
    "\n",
    "# Print the results\n",
    "print(\"\\nCustom Box-Cox Transformation:\")\n",
    "print(\"Optimal Lambda:\", optimal_lambda)\n",
    "print(\"Transformed Data (Sample):\", transformed_data[:5])\n",
    "\n",
    "print(\"\\nScipy Box-Cox Transformation:\")\n",
    "print(\"Optimal Lambda:\", scipy_optimal_lambda)\n",
    "print(\"Transformed Data (Sample):\", scipy_transformed_data[:5])\n"
   ]
  },
  {
   "cell_type": "code",
   "execution_count": null,
   "metadata": {},
   "outputs": [],
   "source": []
  },
  {
   "cell_type": "markdown",
   "metadata": {},
   "source": [
    "Ques-Why the result of custom Box-Cox is different from Scipy Box-Cox"
   ]
  },
  {
   "cell_type": "markdown",
   "metadata": {},
   "source": [
    "        Ans -The reason for the difference between the custom Box-Cox transformation and the one provided by SciPy might be related to the optimization process used to find the optimal lambda.\n",
    "\n",
    "        In the custom implementation, the optimization is based on a user-defined log-likelihood function, and it uses a simple range of lambda values from -5 to 5. The optimal lambda is the one that maximizes this log-likelihood function within that range.\n",
    "\n",
    "        On the other hand, the boxcox function from SciPy uses a more sophisticated optimization algorithm to find the optimal lambda. It searches for the optimal value within a wider range and may use numerical optimization techniques that provide a more accurate result.\n",
    "\n",
    "        In practice, the difference in results between custom implementations and well-established libraries like SciPy can occur due to variations in optimization methods, parameter settings, and numerical precision. It's not uncommon to observe slight differences, and in many cases, the choice between custom implementations and library functions depends on the specific requirements and use case. If the difference is substantial, you might want to investigate further or consider adjusting the optimization parameters in your custom implementation."
   ]
  },
  {
   "cell_type": "code",
   "execution_count": null,
   "metadata": {},
   "outputs": [],
   "source": []
  },
  {
   "cell_type": "markdown",
   "metadata": {},
   "source": [
    "Ques- Difference between box-cox and yeo-johnson transformation"
   ]
  },
  {
   "cell_type": "markdown",
   "metadata": {},
   "source": [
    "    Handling of Zero and Negative Values:\n",
    "\n",
    "    Box-Cox: It is not defined for zero or negative values. If your data contains zeros, you can add a constant to make it positive before applying the Box-Cox transformation.\n",
    "    Yeo-Johnson: It handles zero and negative values. The transformation formula includes different expressions for positive and negative values\n",
    "\n",
    "    Computational Complexity:\n",
    "\n",
    "    Box-Cox: The Box-Cox transformation involves logarithmic computations, which can be computationally intensive.\n",
    "    Yeo-Johnson: The Yeo-Johnson transformation is computationally less intensive due to its piecewise definition"
   ]
  },
  {
   "cell_type": "code",
   "execution_count": null,
   "metadata": {},
   "outputs": [],
   "source": []
  }
 ],
 "metadata": {
  "kernelspec": {
   "display_name": "base",
   "language": "python",
   "name": "python3"
  },
  "language_info": {
   "codemirror_mode": {
    "name": "ipython",
    "version": 3
   },
   "file_extension": ".py",
   "mimetype": "text/x-python",
   "name": "python",
   "nbconvert_exporter": "python",
   "pygments_lexer": "ipython3",
   "version": "3.9.7"
  }
 },
 "nbformat": 4,
 "nbformat_minor": 2
}
