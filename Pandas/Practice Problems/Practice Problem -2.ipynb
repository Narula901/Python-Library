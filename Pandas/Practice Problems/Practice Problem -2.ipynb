{
 "cells": [
  {
   "cell_type": "code",
   "execution_count": null,
   "metadata": {},
   "outputs": [],
   "source": []
  },
  {
   "cell_type": "code",
   "execution_count": 1,
   "metadata": {},
   "outputs": [
    {
     "name": "stdout",
     "output_type": "stream",
     "text": [
      "Genre\n",
      "Action     (Steady, Weak sales)\n",
      "Racing     (Steady, Weak sales)\n",
      "Sports    (Steady, Solid sales)\n",
      "dtype: object\n"
     ]
    }
   ],
   "source": [
    "import pandas as pd\n",
    "import numpy as np\n",
    "\n",
    "# Create a sample DataFrame\n",
    "data = {\n",
    "    'Genre': ['Action', 'Action', 'Sports', 'Sports', 'Racing', 'Racing'],\n",
    "    'EU_Sales': [20, 30, 60, 40, 10, 5]\n",
    "}\n",
    "\n",
    "PS3 = pd.DataFrame(data)\n",
    "\n",
    "# Define the sales_detail function\n",
    "def sales_detail(sg):\n",
    "    level = 'Solid' if sg.EU_Sales.sum() > 50 else 'Weak'\n",
    "    variability = 'Volatile' if sg.EU_Sales.std() / sg.EU_Sales.mean() > 2 else 'Steady'\n",
    "    return (variability, level + ' sales')\n",
    "\n",
    "# Apply the function to the grouped DataFrame\n",
    "result = PS3.groupby('Genre').apply(sales_detail)\n",
    "\n",
    "# Display the result\n",
    "print(result)\n"
   ]
  },
  {
   "cell_type": "code",
   "execution_count": null,
   "metadata": {},
   "outputs": [],
   "source": []
  }
 ],
 "metadata": {
  "kernelspec": {
   "display_name": "base",
   "language": "python",
   "name": "python3"
  },
  "language_info": {
   "codemirror_mode": {
    "name": "ipython",
    "version": 3
   },
   "file_extension": ".py",
   "mimetype": "text/x-python",
   "name": "python",
   "nbconvert_exporter": "python",
   "pygments_lexer": "ipython3",
   "version": "3.9.7"
  }
 },
 "nbformat": 4,
 "nbformat_minor": 2
}
