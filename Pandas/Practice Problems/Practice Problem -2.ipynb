{
 "cells": [
  {
   "cell_type": "code",
   "execution_count": null,
   "metadata": {},
   "outputs": [],
   "source": []
  },
  {
   "cell_type": "code",
   "execution_count": 7,
   "metadata": {},
   "outputs": [
    {
     "name": "stdout",
     "output_type": "stream",
     "text": [
      "Genre\n",
      "Action     (Steady, Weak sales)\n",
      "Racing     (Steady, Weak sales)\n",
      "Sports    (Steady, Solid sales)\n",
      "dtype: object\n"
     ]
    }
   ],
   "source": [
    "import pandas as pd\n",
    "import numpy as np\n",
    "\n",
    "# Create a sample DataFrame\n",
    "data = {\n",
    "    'Genre': ['Action', 'Action', 'Sports', 'Sports', 'Racing', 'Racing'],\n",
    "    'EU_Sales': [20, 30, 60, 40, 10, 5]\n",
    "}\n",
    "\n",
    "PS3 = pd.DataFrame(data)\n",
    "\n",
    "# Define the sales_detail function\n",
    "def sales_detail(sg):\n",
    "    level = 'Solid' if sg.EU_Sales.sum() > 50 else 'Weak'\n",
    "    variability = 'Volatile' if sg.EU_Sales.std() / sg.EU_Sales.mean() > 2 else 'Steady'\n",
    "    return (variability, level + ' sales')\n",
    "\n",
    "# Apply the function to the grouped DataFrame\n",
    "result = PS3.groupby('Genre').apply(sales_detail)\n",
    "\n",
    "# Display the result\n",
    "print(result)\n"
   ]
  },
  {
   "cell_type": "code",
   "execution_count": 8,
   "metadata": {},
   "outputs": [
    {
     "data": {
      "text/html": [
       "<div>\n",
       "<style scoped>\n",
       "    .dataframe tbody tr th:only-of-type {\n",
       "        vertical-align: middle;\n",
       "    }\n",
       "\n",
       "    .dataframe tbody tr th {\n",
       "        vertical-align: top;\n",
       "    }\n",
       "\n",
       "    .dataframe thead th {\n",
       "        text-align: right;\n",
       "    }\n",
       "</style>\n",
       "<table border=\"1\" class=\"dataframe\">\n",
       "  <thead>\n",
       "    <tr style=\"text-align: right;\">\n",
       "      <th></th>\n",
       "      <th>Genre</th>\n",
       "      <th>EU_Sales</th>\n",
       "    </tr>\n",
       "  </thead>\n",
       "  <tbody>\n",
       "    <tr>\n",
       "      <th>0</th>\n",
       "      <td>Action</td>\n",
       "      <td>20</td>\n",
       "    </tr>\n",
       "    <tr>\n",
       "      <th>1</th>\n",
       "      <td>Action</td>\n",
       "      <td>30</td>\n",
       "    </tr>\n",
       "    <tr>\n",
       "      <th>2</th>\n",
       "      <td>Sports</td>\n",
       "      <td>60</td>\n",
       "    </tr>\n",
       "    <tr>\n",
       "      <th>3</th>\n",
       "      <td>Sports</td>\n",
       "      <td>40</td>\n",
       "    </tr>\n",
       "    <tr>\n",
       "      <th>4</th>\n",
       "      <td>Racing</td>\n",
       "      <td>10</td>\n",
       "    </tr>\n",
       "    <tr>\n",
       "      <th>5</th>\n",
       "      <td>Racing</td>\n",
       "      <td>5</td>\n",
       "    </tr>\n",
       "  </tbody>\n",
       "</table>\n",
       "</div>"
      ],
      "text/plain": [
       "    Genre  EU_Sales\n",
       "0  Action        20\n",
       "1  Action        30\n",
       "2  Sports        60\n",
       "3  Sports        40\n",
       "4  Racing        10\n",
       "5  Racing         5"
      ]
     },
     "execution_count": 8,
     "metadata": {},
     "output_type": "execute_result"
    }
   ],
   "source": [
    "PS3"
   ]
  },
  {
   "cell_type": "code",
   "execution_count": 12,
   "metadata": {},
   "outputs": [],
   "source": [
    "def sales_detail(sg):\n",
    "    level = 'Solid' if sg.EU_Sales.sum() > 50 else 'Weak'\n",
    "    variability = 'Volatile' if sg.EU_Sales.std() / sg.EU_Sales.mean() > 2 else 'Steady'\n",
    "    return (variability, level + ' sales')"
   ]
  },
  {
   "cell_type": "code",
   "execution_count": 17,
   "metadata": {},
   "outputs": [],
   "source": [
    "def details(sg):\n",
    "    level = 'Solid' if sg.EU_Sales.sum()>50 else 'Weak'\n",
    "    variability = 'Volatile' if sg.EU_Sales.std()/sg.EU_Sales.mean()>2 else 'Steady'\n",
    "    return(variability, level + ' Sales')"
   ]
  },
  {
   "cell_type": "code",
   "execution_count": 18,
   "metadata": {},
   "outputs": [],
   "source": [
    "final_result = PS3.groupby('Genre').apply(details)"
   ]
  },
  {
   "cell_type": "code",
   "execution_count": 19,
   "metadata": {},
   "outputs": [
    {
     "data": {
      "text/plain": [
       "Genre\n",
       "Action     (Steady, Weak Sales)\n",
       "Racing     (Steady, Weak Sales)\n",
       "Sports    (Steady, Solid Sales)\n",
       "dtype: object"
      ]
     },
     "execution_count": 19,
     "metadata": {},
     "output_type": "execute_result"
    }
   ],
   "source": [
    "final_result"
   ]
  },
  {
   "cell_type": "code",
   "execution_count": null,
   "metadata": {},
   "outputs": [],
   "source": [
    "result = PS3.groupby('Genre').apply(sales_detail)\n"
   ]
  }
 ],
 "metadata": {
  "kernelspec": {
   "display_name": "base",
   "language": "python",
   "name": "python3"
  },
  "language_info": {
   "codemirror_mode": {
    "name": "ipython",
    "version": 3
   },
   "file_extension": ".py",
   "mimetype": "text/x-python",
   "name": "python",
   "nbconvert_exporter": "python",
   "pygments_lexer": "ipython3",
   "version": "3.9.7"
  }
 },
 "nbformat": 4,
 "nbformat_minor": 2
}
