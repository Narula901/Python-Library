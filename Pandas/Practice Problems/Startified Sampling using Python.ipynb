{
 "cells": [
  {
   "cell_type": "markdown",
   "metadata": {},
   "source": [
    "    Stratified random sampling is a technique where the population is divided into different strata or groups, and then random samples are taken from each stratum. This ensures that each subgroup is represented in the final sample. "
   ]
  },
  {
   "cell_type": "markdown",
   "metadata": {},
   "source": [
    "    In this example, the Category column is used as the stratum. The groupby function is used to group the data by the categories, and then the apply function is used to perform random sampling within each stratum. The frac=0.2 parameter in the sample function specifies that we want to select 20% of the data from each stratum."
   ]
  },
  {
   "cell_type": "code",
   "execution_count": 1,
   "metadata": {},
   "outputs": [
    {
     "name": "stdout",
     "output_type": "stream",
     "text": [
      "     ID Category  Value\n",
      "44   45        A    276\n",
      "48   49        A    292\n",
      "96   97        A    484\n",
      "84   85        A    436\n",
      "0     1        A    100\n",
      "33   34        B    232\n",
      "53   54        B    312\n",
      "37   38        B    248\n",
      "45   46        B    280\n",
      "25   26        B    200\n",
      "78   79        C    412\n",
      "38   39        C    252\n",
      "58   59        C    332\n",
      "62   63        C    348\n",
      "50   51        C    300\n",
      "19   20        D    176\n",
      "39   40        D    256\n",
      "15   16        D    160\n",
      "99  100        D    496\n",
      "67   68        D    368\n"
     ]
    }
   ],
   "source": [
    "import pandas as pd\n",
    "from sklearn.model_selection import train_test_split\n",
    "\n",
    "# Create a sample dataset as an example\n",
    "data = {'ID': range(1, 101),\n",
    "        'Category': ['A', 'B', 'C', 'D'] * 25,\n",
    "        'Value': range(100, 500, 4)}\n",
    "\n",
    "df = pd.DataFrame(data)\n",
    "\n",
    "# Stratified random sampling\n",
    "strata = df.groupby('Category', group_keys=False).apply(lambda x: x.sample(frac=0.2))\n",
    "\n",
    "# Display the sampled data\n",
    "print(strata)\n"
   ]
  },
  {
   "cell_type": "code",
   "execution_count": null,
   "metadata": {},
   "outputs": [],
   "source": []
  }
 ],
 "metadata": {
  "kernelspec": {
   "display_name": "base",
   "language": "python",
   "name": "python3"
  },
  "language_info": {
   "codemirror_mode": {
    "name": "ipython",
    "version": 3
   },
   "file_extension": ".py",
   "mimetype": "text/x-python",
   "name": "python",
   "nbconvert_exporter": "python",
   "pygments_lexer": "ipython3",
   "version": "3.9.7"
  }
 },
 "nbformat": 4,
 "nbformat_minor": 2
}
