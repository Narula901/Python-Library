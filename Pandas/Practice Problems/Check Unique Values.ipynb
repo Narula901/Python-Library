{
 "cells": [
  {
   "cell_type": "markdown",
   "metadata": {},
   "source": [
    "# Check Unique values in each column"
   ]
  },
  {
   "cell_type": "code",
   "execution_count": 6,
   "metadata": {},
   "outputs": [],
   "source": [
    "import pandas as pd"
   ]
  },
  {
   "cell_type": "code",
   "execution_count": 7,
   "metadata": {},
   "outputs": [],
   "source": [
    "Score = pd.read_csv(\"D:\\Data for Preprocessing\\scores.csv\")"
   ]
  },
  {
   "cell_type": "code",
   "execution_count": 25,
   "metadata": {},
   "outputs": [
    {
     "data": {
      "text/html": [
       "<div>\n",
       "<style scoped>\n",
       "    .dataframe tbody tr th:only-of-type {\n",
       "        vertical-align: middle;\n",
       "    }\n",
       "\n",
       "    .dataframe tbody tr th {\n",
       "        vertical-align: top;\n",
       "    }\n",
       "\n",
       "    .dataframe thead th {\n",
       "        text-align: right;\n",
       "    }\n",
       "</style>\n",
       "<table border=\"1\" class=\"dataframe\">\n",
       "  <thead>\n",
       "    <tr style=\"text-align: right;\">\n",
       "      <th></th>\n",
       "      <th>date</th>\n",
       "      <th>School Name</th>\n",
       "      <th>Borough</th>\n",
       "      <th>Student Enrollment</th>\n",
       "      <th>Percent Tested</th>\n",
       "      <th>SAT Section</th>\n",
       "      <th>Score</th>\n",
       "      <th>Unnamed: 7</th>\n",
       "    </tr>\n",
       "  </thead>\n",
       "  <tbody>\n",
       "    <tr>\n",
       "      <th>0</th>\n",
       "      <td>01-01-2023</td>\n",
       "      <td>A. Philip Randolph Campus High School</td>\n",
       "      <td>Manhattan</td>\n",
       "      <td>1354</td>\n",
       "      <td>74.00%</td>\n",
       "      <td>Math</td>\n",
       "      <td>459</td>\n",
       "      <td>NaN</td>\n",
       "    </tr>\n",
       "    <tr>\n",
       "      <th>1</th>\n",
       "      <td>02-01-2023</td>\n",
       "      <td>A. Philip Randolph Campus High School</td>\n",
       "      <td>Manhattan</td>\n",
       "      <td>1354</td>\n",
       "      <td>74.00%</td>\n",
       "      <td>Reading</td>\n",
       "      <td>453</td>\n",
       "      <td>NaN</td>\n",
       "    </tr>\n",
       "    <tr>\n",
       "      <th>2</th>\n",
       "      <td>03-01-2023</td>\n",
       "      <td>A. Philip Randolph Campus High School</td>\n",
       "      <td>Manhattan</td>\n",
       "      <td>1354</td>\n",
       "      <td>74.00%</td>\n",
       "      <td>Writing</td>\n",
       "      <td>447</td>\n",
       "      <td>NaN</td>\n",
       "    </tr>\n",
       "    <tr>\n",
       "      <th>3</th>\n",
       "      <td>04-01-2023</td>\n",
       "      <td>Abraham Lincoln High School</td>\n",
       "      <td>Brooklyn</td>\n",
       "      <td>2341</td>\n",
       "      <td>54.90%</td>\n",
       "      <td>Math</td>\n",
       "      <td>441</td>\n",
       "      <td>NaN</td>\n",
       "    </tr>\n",
       "    <tr>\n",
       "      <th>4</th>\n",
       "      <td>05-01-2023</td>\n",
       "      <td>Abraham Lincoln High School</td>\n",
       "      <td>Brooklyn</td>\n",
       "      <td>2341</td>\n",
       "      <td>54.90%</td>\n",
       "      <td>Reading</td>\n",
       "      <td>422</td>\n",
       "      <td>NaN</td>\n",
       "    </tr>\n",
       "    <tr>\n",
       "      <th>...</th>\n",
       "      <td>...</td>\n",
       "      <td>...</td>\n",
       "      <td>...</td>\n",
       "      <td>...</td>\n",
       "      <td>...</td>\n",
       "      <td>...</td>\n",
       "      <td>...</td>\n",
       "      <td>...</td>\n",
       "    </tr>\n",
       "    <tr>\n",
       "      <th>1120</th>\n",
       "      <td>25-01-2026</td>\n",
       "      <td>Young Women's Leadership School in Astoria</td>\n",
       "      <td>Queens</td>\n",
       "      <td>572</td>\n",
       "      <td>100.00%</td>\n",
       "      <td>Reading</td>\n",
       "      <td>464</td>\n",
       "      <td>NaN</td>\n",
       "    </tr>\n",
       "    <tr>\n",
       "      <th>1121</th>\n",
       "      <td>26-01-2026</td>\n",
       "      <td>Young Women's Leadership School in Astoria</td>\n",
       "      <td>Queens</td>\n",
       "      <td>572</td>\n",
       "      <td>100.00%</td>\n",
       "      <td>Writing</td>\n",
       "      <td>477</td>\n",
       "      <td>NaN</td>\n",
       "    </tr>\n",
       "    <tr>\n",
       "      <th>1122</th>\n",
       "      <td>27-01-2026</td>\n",
       "      <td>Young Women's Leadership School in Queens</td>\n",
       "      <td>Queens</td>\n",
       "      <td>557</td>\n",
       "      <td>90.40%</td>\n",
       "      <td>Math</td>\n",
       "      <td>415</td>\n",
       "      <td>NaN</td>\n",
       "    </tr>\n",
       "    <tr>\n",
       "      <th>1123</th>\n",
       "      <td>28-01-2026</td>\n",
       "      <td>Young Women's Leadership School in Queens</td>\n",
       "      <td>Queens</td>\n",
       "      <td>557</td>\n",
       "      <td>90.40%</td>\n",
       "      <td>Reading</td>\n",
       "      <td>420</td>\n",
       "      <td>NaN</td>\n",
       "    </tr>\n",
       "    <tr>\n",
       "      <th>1124</th>\n",
       "      <td>29-01-2026</td>\n",
       "      <td>Young Women's Leadership School in Queens</td>\n",
       "      <td>Queens</td>\n",
       "      <td>557</td>\n",
       "      <td>90.40%</td>\n",
       "      <td>Writing</td>\n",
       "      <td>433</td>\n",
       "      <td>NaN</td>\n",
       "    </tr>\n",
       "  </tbody>\n",
       "</table>\n",
       "<p>1125 rows × 8 columns</p>\n",
       "</div>"
      ],
      "text/plain": [
       "            date                                 School Name    Borough  \\\n",
       "0     01-01-2023       A. Philip Randolph Campus High School  Manhattan   \n",
       "1     02-01-2023       A. Philip Randolph Campus High School  Manhattan   \n",
       "2     03-01-2023       A. Philip Randolph Campus High School  Manhattan   \n",
       "3     04-01-2023                 Abraham Lincoln High School   Brooklyn   \n",
       "4     05-01-2023                 Abraham Lincoln High School   Brooklyn   \n",
       "...          ...                                         ...        ...   \n",
       "1120  25-01-2026  Young Women's Leadership School in Astoria     Queens   \n",
       "1121  26-01-2026  Young Women's Leadership School in Astoria     Queens   \n",
       "1122  27-01-2026   Young Women's Leadership School in Queens     Queens   \n",
       "1123  28-01-2026   Young Women's Leadership School in Queens     Queens   \n",
       "1124  29-01-2026   Young Women's Leadership School in Queens     Queens   \n",
       "\n",
       "      Student Enrollment Percent Tested SAT Section  Score  Unnamed: 7  \n",
       "0                   1354         74.00%        Math    459         NaN  \n",
       "1                   1354         74.00%     Reading    453         NaN  \n",
       "2                   1354         74.00%     Writing    447         NaN  \n",
       "3                   2341         54.90%        Math    441         NaN  \n",
       "4                   2341         54.90%     Reading    422         NaN  \n",
       "...                  ...            ...         ...    ...         ...  \n",
       "1120                 572        100.00%     Reading    464         NaN  \n",
       "1121                 572        100.00%     Writing    477         NaN  \n",
       "1122                 557         90.40%        Math    415         NaN  \n",
       "1123                 557         90.40%     Reading    420         NaN  \n",
       "1124                 557         90.40%     Writing    433         NaN  \n",
       "\n",
       "[1125 rows x 8 columns]"
      ]
     },
     "execution_count": 25,
     "metadata": {},
     "output_type": "execute_result"
    }
   ],
   "source": [
    "Score"
   ]
  },
  {
   "cell_type": "code",
   "execution_count": 26,
   "metadata": {},
   "outputs": [
    {
     "data": {
      "text/html": [
       "<div>\n",
       "<style scoped>\n",
       "    .dataframe tbody tr th:only-of-type {\n",
       "        vertical-align: middle;\n",
       "    }\n",
       "\n",
       "    .dataframe tbody tr th {\n",
       "        vertical-align: top;\n",
       "    }\n",
       "\n",
       "    .dataframe thead th {\n",
       "        text-align: right;\n",
       "    }\n",
       "</style>\n",
       "<table border=\"1\" class=\"dataframe\">\n",
       "  <thead>\n",
       "    <tr style=\"text-align: right;\">\n",
       "      <th></th>\n",
       "      <th>Student Enrollment</th>\n",
       "      <th>Score</th>\n",
       "      <th>Unnamed: 7</th>\n",
       "    </tr>\n",
       "  </thead>\n",
       "  <tbody>\n",
       "    <tr>\n",
       "      <th>0</th>\n",
       "      <td>1354</td>\n",
       "      <td>459</td>\n",
       "      <td>NaN</td>\n",
       "    </tr>\n",
       "    <tr>\n",
       "      <th>1</th>\n",
       "      <td>1354</td>\n",
       "      <td>453</td>\n",
       "      <td>NaN</td>\n",
       "    </tr>\n",
       "    <tr>\n",
       "      <th>2</th>\n",
       "      <td>1354</td>\n",
       "      <td>447</td>\n",
       "      <td>NaN</td>\n",
       "    </tr>\n",
       "    <tr>\n",
       "      <th>3</th>\n",
       "      <td>2341</td>\n",
       "      <td>441</td>\n",
       "      <td>NaN</td>\n",
       "    </tr>\n",
       "    <tr>\n",
       "      <th>4</th>\n",
       "      <td>2341</td>\n",
       "      <td>422</td>\n",
       "      <td>NaN</td>\n",
       "    </tr>\n",
       "    <tr>\n",
       "      <th>...</th>\n",
       "      <td>...</td>\n",
       "      <td>...</td>\n",
       "      <td>...</td>\n",
       "    </tr>\n",
       "    <tr>\n",
       "      <th>1120</th>\n",
       "      <td>572</td>\n",
       "      <td>464</td>\n",
       "      <td>NaN</td>\n",
       "    </tr>\n",
       "    <tr>\n",
       "      <th>1121</th>\n",
       "      <td>572</td>\n",
       "      <td>477</td>\n",
       "      <td>NaN</td>\n",
       "    </tr>\n",
       "    <tr>\n",
       "      <th>1122</th>\n",
       "      <td>557</td>\n",
       "      <td>415</td>\n",
       "      <td>NaN</td>\n",
       "    </tr>\n",
       "    <tr>\n",
       "      <th>1123</th>\n",
       "      <td>557</td>\n",
       "      <td>420</td>\n",
       "      <td>NaN</td>\n",
       "    </tr>\n",
       "    <tr>\n",
       "      <th>1124</th>\n",
       "      <td>557</td>\n",
       "      <td>433</td>\n",
       "      <td>NaN</td>\n",
       "    </tr>\n",
       "  </tbody>\n",
       "</table>\n",
       "<p>1125 rows × 3 columns</p>\n",
       "</div>"
      ],
      "text/plain": [
       "      Student Enrollment  Score  Unnamed: 7\n",
       "0                   1354    459         NaN\n",
       "1                   1354    453         NaN\n",
       "2                   1354    447         NaN\n",
       "3                   2341    441         NaN\n",
       "4                   2341    422         NaN\n",
       "...                  ...    ...         ...\n",
       "1120                 572    464         NaN\n",
       "1121                 572    477         NaN\n",
       "1122                 557    415         NaN\n",
       "1123                 557    420         NaN\n",
       "1124                 557    433         NaN\n",
       "\n",
       "[1125 rows x 3 columns]"
      ]
     },
     "execution_count": 26,
     "metadata": {},
     "output_type": "execute_result"
    }
   ],
   "source": [
    "Score.select_dtypes(include= 'number')"
   ]
  },
  {
   "cell_type": "code",
   "execution_count": 37,
   "metadata": {},
   "outputs": [
    {
     "name": "stdout",
     "output_type": "stream",
     "text": [
      "Column: date, Unique: 1125, Percentage Unique: 100.00%\n",
      "Column: School Name, Unique: 375, Percentage Unique: 33.33%\n",
      "Column: Borough, Unique: 5, Percentage Unique: 0.44%\n",
      "Column: Student Enrollment, Unique: 285, Percentage Unique: 25.33%\n",
      "Column: Percent Tested, Unique: 283, Percentage Unique: 25.16%\n",
      "Column: SAT Section, Unique: 3, Percentage Unique: 0.27%\n",
      "Column: Score, Unique: 266, Percentage Unique: 23.64%\n",
      "Column: Unnamed: 7, Unique: 0, Percentage Unique: 0.00%\n"
     ]
    }
   ],
   "source": [
    "\n",
    "for col in Score.columns:\n",
    "    Unique_count = Score[col].nunique()\n",
    "    total_count = len(Score)\n",
    "    perc_unique = (Unique_count/total_count)*100\n",
    "\n",
    "    print(f'Column: {col}, Unique: {Unique_count}, Percentage Unique: {perc_unique:.2f}%')"
   ]
  },
  {
   "cell_type": "code",
   "execution_count": 28,
   "metadata": {},
   "outputs": [
    {
     "name": "stdout",
     "output_type": "stream",
     "text": [
      "Column: Student Enrollment, Unique: 285, Percentage Unique: 25.33%\n",
      "Column: Score, Unique: 266, Percentage Unique: 23.64%\n",
      "Column: Unnamed: 7, Unique: 0, Percentage Unique: 0.00%\n"
     ]
    }
   ],
   "source": [
    "\n",
    "# Calculate and print the percentage of unique values for numeric columns\n",
    "for col in Score.columns:\n",
    "    if pd.api.types.is_numeric_dtype(Score[col]):\n",
    "        Unique_count = Score[col].nunique()\n",
    "        total_count = len(Score)\n",
    "        perc_unique = (Unique_count / total_count) * 100\n",
    "\n",
    "        print(f'Column: {col}, Unique: {Unique_count}, Percentage Unique: {perc_unique:.2f}%')"
   ]
  },
  {
   "cell_type": "code",
   "execution_count": 32,
   "metadata": {},
   "outputs": [
    {
     "name": "stdout",
     "output_type": "stream",
     "text": [
      "Column: Student Enrollment, Unique: 285, Percentage Unique: 25.33%\n",
      "Column: Score, Unique: 266, Percentage Unique: 23.64%\n",
      "Column: Unnamed: 7, Unique: 0, Percentage Unique: 0.00%\n"
     ]
    }
   ],
   "source": [
    "\n",
    "# Calculate and print the percentage of unique values for numeric columns\n",
    "for col in Score.columns:\n",
    "    if Score[col].dtype in ['int64', 'float64']:\n",
    "        Unique_count = Score[col].nunique()\n",
    "        total_count = len(Score)\n",
    "        perc_unique = (Unique_count / total_count) * 100\n",
    "\n",
    "        print(f'Column: {col}, Unique: {Unique_count}, Percentage Unique: {perc_unique:.2f}%')"
   ]
  },
  {
   "cell_type": "code",
   "execution_count": null,
   "metadata": {},
   "outputs": [],
   "source": []
  },
  {
   "cell_type": "code",
   "execution_count": 26,
   "metadata": {},
   "outputs": [
    {
     "data": {
      "text/plain": [
       "date                  1125\n",
       "School Name            375\n",
       "Borough                  5\n",
       "Student Enrollment     285\n",
       "Percent Tested         283\n",
       "SAT Section              3\n",
       "Score                  266\n",
       "Unnamed: 7               0\n",
       "dtype: int64"
      ]
     },
     "execution_count": 26,
     "metadata": {},
     "output_type": "execute_result"
    }
   ],
   "source": [
    "Score.nunique()"
   ]
  },
  {
   "cell_type": "code",
   "execution_count": 11,
   "metadata": {},
   "outputs": [],
   "source": [
    "counts = Score.nunique()\n"
   ]
  },
  {
   "cell_type": "code",
   "execution_count": 20,
   "metadata": {},
   "outputs": [],
   "source": [
    "to_del = [ i for i,v in enumerate(counts) if (float(v)/Score.shape[0]*100)<1]"
   ]
  },
  {
   "cell_type": "code",
   "execution_count": 13,
   "metadata": {},
   "outputs": [
    {
     "data": {
      "text/plain": [
       "[2, 5, 7]"
      ]
     },
     "execution_count": 13,
     "metadata": {},
     "output_type": "execute_result"
    }
   ],
   "source": [
    "to_del"
   ]
  },
  {
   "cell_type": "code",
   "execution_count": 24,
   "metadata": {},
   "outputs": [
    {
     "data": {
      "text/plain": [
       "[1125, 375, 5, 285, 283, 3, 266, 0]"
      ]
     },
     "execution_count": 24,
     "metadata": {},
     "output_type": "execute_result"
    }
   ],
   "source": [
    "[v for i,v in enumerate(counts)]"
   ]
  },
  {
   "cell_type": "code",
   "execution_count": 25,
   "metadata": {},
   "outputs": [
    {
     "data": {
      "text/plain": [
       "[0, 1, 2, 3, 4, 5, 6, 7]"
      ]
     },
     "execution_count": 25,
     "metadata": {},
     "output_type": "execute_result"
    }
   ],
   "source": [
    "[i for i,v in enumerate(counts)]"
   ]
  },
  {
   "cell_type": "code",
   "execution_count": 36,
   "metadata": {},
   "outputs": [],
   "source": [
    "sel_col = Score.columns[[2,5,7]]"
   ]
  },
  {
   "cell_type": "code",
   "execution_count": 38,
   "metadata": {},
   "outputs": [
    {
     "data": {
      "text/plain": [
       "Index(['Borough', 'SAT Section', 'Unnamed: 7'], dtype='object')"
      ]
     },
     "execution_count": 38,
     "metadata": {},
     "output_type": "execute_result"
    }
   ],
   "source": [
    "sel_col"
   ]
  },
  {
   "cell_type": "code",
   "execution_count": 37,
   "metadata": {},
   "outputs": [
    {
     "data": {
      "text/html": [
       "<div>\n",
       "<style scoped>\n",
       "    .dataframe tbody tr th:only-of-type {\n",
       "        vertical-align: middle;\n",
       "    }\n",
       "\n",
       "    .dataframe tbody tr th {\n",
       "        vertical-align: top;\n",
       "    }\n",
       "\n",
       "    .dataframe thead th {\n",
       "        text-align: right;\n",
       "    }\n",
       "</style>\n",
       "<table border=\"1\" class=\"dataframe\">\n",
       "  <thead>\n",
       "    <tr style=\"text-align: right;\">\n",
       "      <th></th>\n",
       "      <th>date</th>\n",
       "      <th>School Name</th>\n",
       "      <th>Student Enrollment</th>\n",
       "      <th>Percent Tested</th>\n",
       "      <th>Score</th>\n",
       "    </tr>\n",
       "  </thead>\n",
       "  <tbody>\n",
       "    <tr>\n",
       "      <th>0</th>\n",
       "      <td>01-01-2023</td>\n",
       "      <td>A. Philip Randolph Campus High School</td>\n",
       "      <td>1354</td>\n",
       "      <td>74.00%</td>\n",
       "      <td>459</td>\n",
       "    </tr>\n",
       "    <tr>\n",
       "      <th>1</th>\n",
       "      <td>02-01-2023</td>\n",
       "      <td>A. Philip Randolph Campus High School</td>\n",
       "      <td>1354</td>\n",
       "      <td>74.00%</td>\n",
       "      <td>453</td>\n",
       "    </tr>\n",
       "    <tr>\n",
       "      <th>2</th>\n",
       "      <td>03-01-2023</td>\n",
       "      <td>A. Philip Randolph Campus High School</td>\n",
       "      <td>1354</td>\n",
       "      <td>74.00%</td>\n",
       "      <td>447</td>\n",
       "    </tr>\n",
       "    <tr>\n",
       "      <th>3</th>\n",
       "      <td>04-01-2023</td>\n",
       "      <td>Abraham Lincoln High School</td>\n",
       "      <td>2341</td>\n",
       "      <td>54.90%</td>\n",
       "      <td>441</td>\n",
       "    </tr>\n",
       "    <tr>\n",
       "      <th>4</th>\n",
       "      <td>05-01-2023</td>\n",
       "      <td>Abraham Lincoln High School</td>\n",
       "      <td>2341</td>\n",
       "      <td>54.90%</td>\n",
       "      <td>422</td>\n",
       "    </tr>\n",
       "    <tr>\n",
       "      <th>...</th>\n",
       "      <td>...</td>\n",
       "      <td>...</td>\n",
       "      <td>...</td>\n",
       "      <td>...</td>\n",
       "      <td>...</td>\n",
       "    </tr>\n",
       "    <tr>\n",
       "      <th>1120</th>\n",
       "      <td>25-01-2026</td>\n",
       "      <td>Young Women's Leadership School in Astoria</td>\n",
       "      <td>572</td>\n",
       "      <td>100.00%</td>\n",
       "      <td>464</td>\n",
       "    </tr>\n",
       "    <tr>\n",
       "      <th>1121</th>\n",
       "      <td>26-01-2026</td>\n",
       "      <td>Young Women's Leadership School in Astoria</td>\n",
       "      <td>572</td>\n",
       "      <td>100.00%</td>\n",
       "      <td>477</td>\n",
       "    </tr>\n",
       "    <tr>\n",
       "      <th>1122</th>\n",
       "      <td>27-01-2026</td>\n",
       "      <td>Young Women's Leadership School in Queens</td>\n",
       "      <td>557</td>\n",
       "      <td>90.40%</td>\n",
       "      <td>415</td>\n",
       "    </tr>\n",
       "    <tr>\n",
       "      <th>1123</th>\n",
       "      <td>28-01-2026</td>\n",
       "      <td>Young Women's Leadership School in Queens</td>\n",
       "      <td>557</td>\n",
       "      <td>90.40%</td>\n",
       "      <td>420</td>\n",
       "    </tr>\n",
       "    <tr>\n",
       "      <th>1124</th>\n",
       "      <td>29-01-2026</td>\n",
       "      <td>Young Women's Leadership School in Queens</td>\n",
       "      <td>557</td>\n",
       "      <td>90.40%</td>\n",
       "      <td>433</td>\n",
       "    </tr>\n",
       "  </tbody>\n",
       "</table>\n",
       "<p>1125 rows × 5 columns</p>\n",
       "</div>"
      ],
      "text/plain": [
       "            date                                 School Name  \\\n",
       "0     01-01-2023       A. Philip Randolph Campus High School   \n",
       "1     02-01-2023       A. Philip Randolph Campus High School   \n",
       "2     03-01-2023       A. Philip Randolph Campus High School   \n",
       "3     04-01-2023                 Abraham Lincoln High School   \n",
       "4     05-01-2023                 Abraham Lincoln High School   \n",
       "...          ...                                         ...   \n",
       "1120  25-01-2026  Young Women's Leadership School in Astoria   \n",
       "1121  26-01-2026  Young Women's Leadership School in Astoria   \n",
       "1122  27-01-2026   Young Women's Leadership School in Queens   \n",
       "1123  28-01-2026   Young Women's Leadership School in Queens   \n",
       "1124  29-01-2026   Young Women's Leadership School in Queens   \n",
       "\n",
       "      Student Enrollment Percent Tested  Score  \n",
       "0                   1354         74.00%    459  \n",
       "1                   1354         74.00%    453  \n",
       "2                   1354         74.00%    447  \n",
       "3                   2341         54.90%    441  \n",
       "4                   2341         54.90%    422  \n",
       "...                  ...            ...    ...  \n",
       "1120                 572        100.00%    464  \n",
       "1121                 572        100.00%    477  \n",
       "1122                 557         90.40%    415  \n",
       "1123                 557         90.40%    420  \n",
       "1124                 557         90.40%    433  \n",
       "\n",
       "[1125 rows x 5 columns]"
      ]
     },
     "execution_count": 37,
     "metadata": {},
     "output_type": "execute_result"
    }
   ],
   "source": [
    "Score.drop(sel_col, axis =1)"
   ]
  },
  {
   "cell_type": "code",
   "execution_count": 40,
   "metadata": {},
   "outputs": [],
   "source": [
    "from sklearn.feature_selection import VarianceThreshold"
   ]
  },
  {
   "cell_type": "code",
   "execution_count": 45,
   "metadata": {},
   "outputs": [
    {
     "name": "stderr",
     "output_type": "stream",
     "text": [
      "c:\\ProgramData\\Anaconda3\\lib\\site-packages\\sklearn\\feature_selection\\_variance_threshold.py:78: RuntimeWarning: Degrees of freedom <= 0 for slice.\n",
      "  self.variances_ = np.nanvar(X, axis=0)\n"
     ]
    },
    {
     "ename": "IndexError",
     "evalue": "boolean index did not match indexed array along dimension 0; dimension is 8 but corresponding boolean dimension is 3",
     "output_type": "error",
     "traceback": [
      "\u001b[1;31m---------------------------------------------------------------------------\u001b[0m",
      "\u001b[1;31mIndexError\u001b[0m                                Traceback (most recent call last)",
      "\u001b[1;32m~\\AppData\\Local\\Temp/ipykernel_16000/1970944271.py\u001b[0m in \u001b[0;36m<module>\u001b[1;34m\u001b[0m\n\u001b[0;32m      9\u001b[0m \u001b[1;33m\u001b[0m\u001b[0m\n\u001b[0;32m     10\u001b[0m \u001b[1;31m# Get the retained columns\u001b[0m\u001b[1;33m\u001b[0m\u001b[1;33m\u001b[0m\u001b[0m\n\u001b[1;32m---> 11\u001b[1;33m \u001b[0mselected_columns\u001b[0m \u001b[1;33m=\u001b[0m \u001b[0mScore\u001b[0m\u001b[1;33m.\u001b[0m\u001b[0mcolumns\u001b[0m\u001b[1;33m[\u001b[0m\u001b[0mtransform\u001b[0m\u001b[1;33m.\u001b[0m\u001b[0mget_support\u001b[0m\u001b[1;33m(\u001b[0m\u001b[1;33m)\u001b[0m\u001b[1;33m]\u001b[0m\u001b[1;33m\u001b[0m\u001b[1;33m\u001b[0m\u001b[0m\n\u001b[0m\u001b[0;32m     12\u001b[0m \u001b[1;33m\u001b[0m\u001b[0m\n\u001b[0;32m     13\u001b[0m \u001b[0mprint\u001b[0m\u001b[1;33m(\u001b[0m\u001b[1;34mf\"Original number of columns: {numeric_columns.shape[1]}\"\u001b[0m\u001b[1;33m)\u001b[0m\u001b[1;33m\u001b[0m\u001b[1;33m\u001b[0m\u001b[0m\n",
      "\u001b[1;32mc:\\ProgramData\\Anaconda3\\lib\\site-packages\\pandas\\core\\indexes\\base.py\u001b[0m in \u001b[0;36m__getitem__\u001b[1;34m(self, key)\u001b[0m\n\u001b[0;32m   4614\u001b[0m             \u001b[0mkey\u001b[0m \u001b[1;33m=\u001b[0m \u001b[0mnp\u001b[0m\u001b[1;33m.\u001b[0m\u001b[0masarray\u001b[0m\u001b[1;33m(\u001b[0m\u001b[0mkey\u001b[0m\u001b[1;33m,\u001b[0m \u001b[0mdtype\u001b[0m\u001b[1;33m=\u001b[0m\u001b[0mbool\u001b[0m\u001b[1;33m)\u001b[0m\u001b[1;33m\u001b[0m\u001b[1;33m\u001b[0m\u001b[0m\n\u001b[0;32m   4615\u001b[0m \u001b[1;33m\u001b[0m\u001b[0m\n\u001b[1;32m-> 4616\u001b[1;33m         \u001b[0mresult\u001b[0m \u001b[1;33m=\u001b[0m \u001b[0mgetitem\u001b[0m\u001b[1;33m(\u001b[0m\u001b[0mkey\u001b[0m\u001b[1;33m)\u001b[0m\u001b[1;33m\u001b[0m\u001b[1;33m\u001b[0m\u001b[0m\n\u001b[0m\u001b[0;32m   4617\u001b[0m         \u001b[1;32mif\u001b[0m \u001b[1;32mnot\u001b[0m \u001b[0mis_scalar\u001b[0m\u001b[1;33m(\u001b[0m\u001b[0mresult\u001b[0m\u001b[1;33m)\u001b[0m\u001b[1;33m:\u001b[0m\u001b[1;33m\u001b[0m\u001b[1;33m\u001b[0m\u001b[0m\n\u001b[0;32m   4618\u001b[0m             \u001b[1;31m# error: Argument 1 to \"ndim\" has incompatible type \"Union[ExtensionArray,\u001b[0m\u001b[1;33m\u001b[0m\u001b[1;33m\u001b[0m\u001b[0m\n",
      "\u001b[1;31mIndexError\u001b[0m: boolean index did not match indexed array along dimension 0; dimension is 8 but corresponding boolean dimension is 3"
     ]
    }
   ],
   "source": [
    "threshold_value = 0.1  # You can adjust this value as needed\n",
    "\n",
    "# Initialize VarianceThreshold\n",
    "transform = VarianceThreshold(threshold=threshold_value)\n",
    "\n",
    "numeric_columns = Score.select_dtypes(include= ['int64', 'float64'])\n",
    "# Fit and transform the input data\n",
    "X_sel = transform.fit_transform(numeric_columns)\n",
    "\n",
    "# Get the retained columns\n",
    "selected_columns = Score.columns[transform.get_support()]\n",
    "\n",
    "print(f\"Original number of columns: {numeric_columns.shape[1]}\")\n",
    "print(f\"Number of retained columns: {len(selected_columns)}\")\n",
    "print(f\"Retained columns: {selected_columns}\")\n",
    "print(f\"Variance threshold used: {threshold_value}\")"
   ]
  },
  {
   "cell_type": "code",
   "execution_count": 46,
   "metadata": {},
   "outputs": [
    {
     "name": "stdout",
     "output_type": "stream",
     "text": [
      "Original number of columns: 3\n",
      "Number of retained columns: 2\n",
      "Retained columns: Index(['Student Enrollment', 'Score'], dtype='object')\n",
      "Variance threshold used: 0.1\n"
     ]
    },
    {
     "name": "stderr",
     "output_type": "stream",
     "text": [
      "c:\\ProgramData\\Anaconda3\\lib\\site-packages\\sklearn\\feature_selection\\_variance_threshold.py:78: RuntimeWarning: Degrees of freedom <= 0 for slice.\n",
      "  self.variances_ = np.nanvar(X, axis=0)\n"
     ]
    }
   ],
   "source": [
    "# Select only numeric columns (int and float)\n",
    "numeric_columns = Score.select_dtypes(include=['int64', 'float64'])\n",
    "\n",
    "# Set your desired threshold\n",
    "threshold_value = 0.1  # You can adjust this value as needed\n",
    "\n",
    "# Initialize VarianceThreshold\n",
    "transform = VarianceThreshold(threshold=threshold_value)\n",
    "\n",
    "# Fit and transform the input data\n",
    "X_sel = transform.fit_transform(numeric_columns)\n",
    "\n",
    "# Get the retained columns\n",
    "selected_columns_mask = transform.get_support()\n",
    "selected_columns = numeric_columns.columns[selected_columns_mask]\n",
    "\n",
    "print(f\"Original number of columns: {numeric_columns.shape[1]}\")\n",
    "print(f\"Number of retained columns: {len(selected_columns)}\")\n",
    "print(f\"Retained columns: {selected_columns}\")\n",
    "print(f\"Variance threshold used: {threshold_value}\")"
   ]
  },
  {
   "cell_type": "code",
   "execution_count": 50,
   "metadata": {},
   "outputs": [
    {
     "data": {
      "text/html": [
       "<div>\n",
       "<style scoped>\n",
       "    .dataframe tbody tr th:only-of-type {\n",
       "        vertical-align: middle;\n",
       "    }\n",
       "\n",
       "    .dataframe tbody tr th {\n",
       "        vertical-align: top;\n",
       "    }\n",
       "\n",
       "    .dataframe thead th {\n",
       "        text-align: right;\n",
       "    }\n",
       "</style>\n",
       "<table border=\"1\" class=\"dataframe\">\n",
       "  <thead>\n",
       "    <tr style=\"text-align: right;\">\n",
       "      <th></th>\n",
       "      <th>Student Enrollment</th>\n",
       "      <th>Score</th>\n",
       "      <th>Unnamed: 7</th>\n",
       "    </tr>\n",
       "  </thead>\n",
       "  <tbody>\n",
       "    <tr>\n",
       "      <th>0</th>\n",
       "      <td>1354</td>\n",
       "      <td>459</td>\n",
       "      <td>NaN</td>\n",
       "    </tr>\n",
       "    <tr>\n",
       "      <th>1</th>\n",
       "      <td>1354</td>\n",
       "      <td>453</td>\n",
       "      <td>NaN</td>\n",
       "    </tr>\n",
       "    <tr>\n",
       "      <th>2</th>\n",
       "      <td>1354</td>\n",
       "      <td>447</td>\n",
       "      <td>NaN</td>\n",
       "    </tr>\n",
       "    <tr>\n",
       "      <th>3</th>\n",
       "      <td>2341</td>\n",
       "      <td>441</td>\n",
       "      <td>NaN</td>\n",
       "    </tr>\n",
       "    <tr>\n",
       "      <th>4</th>\n",
       "      <td>2341</td>\n",
       "      <td>422</td>\n",
       "      <td>NaN</td>\n",
       "    </tr>\n",
       "    <tr>\n",
       "      <th>...</th>\n",
       "      <td>...</td>\n",
       "      <td>...</td>\n",
       "      <td>...</td>\n",
       "    </tr>\n",
       "    <tr>\n",
       "      <th>1120</th>\n",
       "      <td>572</td>\n",
       "      <td>464</td>\n",
       "      <td>NaN</td>\n",
       "    </tr>\n",
       "    <tr>\n",
       "      <th>1121</th>\n",
       "      <td>572</td>\n",
       "      <td>477</td>\n",
       "      <td>NaN</td>\n",
       "    </tr>\n",
       "    <tr>\n",
       "      <th>1122</th>\n",
       "      <td>557</td>\n",
       "      <td>415</td>\n",
       "      <td>NaN</td>\n",
       "    </tr>\n",
       "    <tr>\n",
       "      <th>1123</th>\n",
       "      <td>557</td>\n",
       "      <td>420</td>\n",
       "      <td>NaN</td>\n",
       "    </tr>\n",
       "    <tr>\n",
       "      <th>1124</th>\n",
       "      <td>557</td>\n",
       "      <td>433</td>\n",
       "      <td>NaN</td>\n",
       "    </tr>\n",
       "  </tbody>\n",
       "</table>\n",
       "<p>1125 rows × 3 columns</p>\n",
       "</div>"
      ],
      "text/plain": [
       "      Student Enrollment  Score  Unnamed: 7\n",
       "0                   1354    459         NaN\n",
       "1                   1354    453         NaN\n",
       "2                   1354    447         NaN\n",
       "3                   2341    441         NaN\n",
       "4                   2341    422         NaN\n",
       "...                  ...    ...         ...\n",
       "1120                 572    464         NaN\n",
       "1121                 572    477         NaN\n",
       "1122                 557    415         NaN\n",
       "1123                 557    420         NaN\n",
       "1124                 557    433         NaN\n",
       "\n",
       "[1125 rows x 3 columns]"
      ]
     },
     "execution_count": 50,
     "metadata": {},
     "output_type": "execute_result"
    }
   ],
   "source": [
    "numeric_columns\n"
   ]
  },
  {
   "cell_type": "code",
   "execution_count": 49,
   "metadata": {},
   "outputs": [
    {
     "name": "stdout",
     "output_type": "stream",
     "text": [
      "<class 'pandas.core.frame.DataFrame'>\n",
      "RangeIndex: 1125 entries, 0 to 1124\n",
      "Data columns (total 8 columns):\n",
      " #   Column              Non-Null Count  Dtype  \n",
      "---  ------              --------------  -----  \n",
      " 0   date                1125 non-null   object \n",
      " 1   School Name         1125 non-null   object \n",
      " 2   Borough             1125 non-null   object \n",
      " 3   Student Enrollment  1125 non-null   int64  \n",
      " 4   Percent Tested      1125 non-null   object \n",
      " 5   SAT Section         1125 non-null   object \n",
      " 6   Score               1125 non-null   int64  \n",
      " 7   Unnamed: 7          0 non-null      float64\n",
      "dtypes: float64(1), int64(2), object(5)\n",
      "memory usage: 70.4+ KB\n"
     ]
    }
   ],
   "source": [
    "Score.info()"
   ]
  },
  {
   "cell_type": "code",
   "execution_count": null,
   "metadata": {},
   "outputs": [],
   "source": []
  }
 ],
 "metadata": {
  "kernelspec": {
   "display_name": "base",
   "language": "python",
   "name": "python3"
  },
  "language_info": {
   "codemirror_mode": {
    "name": "ipython",
    "version": 3
   },
   "file_extension": ".py",
   "mimetype": "text/x-python",
   "name": "python",
   "nbconvert_exporter": "python",
   "pygments_lexer": "ipython3",
   "version": "3.9.7"
  }
 },
 "nbformat": 4,
 "nbformat_minor": 2
}
